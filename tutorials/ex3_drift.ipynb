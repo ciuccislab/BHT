{
 "cells": [
  {
   "cell_type": "markdown",
   "metadata": {},
   "source": [
    "# Computing the Bayesian Hilbert Transform-DRT"
   ]
  },
  {
   "cell_type": "markdown",
   "metadata": {},
   "source": [
    "In this tutorial example, we will show evaluate the BHT-DRT performance using a two ZARCs model with drift."
   ]
  },
  {
   "cell_type": "code",
   "execution_count": 1,
   "metadata": {},
   "outputs": [
    {
     "data": {
      "text/plain": [
       "<module 'Bayes_HT' from '/Users/jiapeng/Documents/Github/BHT/tutorials/Bayes_HT.py'>"
      ]
     },
     "execution_count": 1,
     "metadata": {},
     "output_type": "execute_result"
    }
   ],
   "source": [
    "# import the libraries\n",
    "import numpy as np\n",
    "from math import pi, log10\n",
    "import matplotlib.pyplot as plt\n",
    "import seaborn as sns\n",
    "\n",
    "# core library\n",
    "import Bayes_HT\n",
    "import importlib\n",
    "importlib.reload(Bayes_HT)"
   ]
  },
  {
   "cell_type": "code",
   "execution_count": 2,
   "metadata": {},
   "outputs": [],
   "source": [
    "# plot standards\n",
    "plt.rc('font', family='serif', size=15)\n",
    "plt.rc('text', usetex=True)\n",
    "plt.rc('xtick', labelsize=15)\n",
    "plt.rc('ytick', labelsize=15)"
   ]
  },
  {
   "cell_type": "markdown",
   "metadata": {},
   "source": [
    "## 1) Define the synthetic impedance experiment $Z_{\\rm exp}(\\omega)$"
   ]
  },
  {
   "cell_type": "markdown",
   "metadata": {},
   "source": [
    "### 1.1) Define the frequency range"
   ]
  },
  {
   "cell_type": "code",
   "execution_count": 3,
   "metadata": {},
   "outputs": [],
   "source": [
    "N_freqs = 81\n",
    "freq_min = 10**-4   # Hz\n",
    "freq_max = 10**4    # Hz\n",
    "freq_vec = np.logspace(log10(freq_min), log10(freq_max), num=N_freqs, endpoint=True)\n",
    "tau_vec = np.logspace(-log10(freq_max), -log10(freq_min), num=N_freqs, endpoint=True)\n",
    "omega_vec = 2.*pi*freq_vec"
   ]
  },
  {
   "cell_type": "markdown",
   "metadata": {},
   "source": [
    "### 1.2) Define the circuit parameters for the two ZARCs"
   ]
  },
  {
   "cell_type": "code",
   "execution_count": 4,
   "metadata": {},
   "outputs": [],
   "source": [
    "# define variables for exact circuit 1\n",
    "R_inf_1 = 10      # Ohm\n",
    "R_ct_1 = 50       # Ohm\n",
    "phi_1 = 0.8\n",
    "tau_1 = 0.1       # sec\n",
    "\n",
    "# impedance of circuit 1\n",
    "T_1 = tau_1**phi_1/R_ct_1\n",
    "Z_exact_1 = R_inf_1+1./(1./R_ct_1+T_1*(1j*2.*pi*freq_vec)**phi_1)\n",
    "\n",
    "# define variables for exact circuit 2\n",
    "R_inf_2 = 10      # Ohm\n",
    "R_ct_2 = 50       # Ohm\n",
    "phi_2 = 0.8\n",
    "tau_2 = 1E0       # sec\n",
    "\n",
    "# impedance of circuit 2\n",
    "T_2 = tau_2**phi_2/R_ct_2\n",
    "Z_exact_2 = R_inf_2+1./(1./R_ct_2+T_2*(1j*2.*pi*freq_vec)**phi_2)"
   ]
  },
  {
   "cell_type": "markdown",
   "metadata": {},
   "source": [
    "### 1.3) Generate exact base impedance $Z_{\\rm base}(\\omega)$"
   ]
  },
  {
   "cell_type": "code",
   "execution_count": 5,
   "metadata": {},
   "outputs": [],
   "source": [
    "# base model with no drift\n",
    "Z_base = Z_exact_1+Z_exact_2"
   ]
  },
  {
   "cell_type": "markdown",
   "metadata": {},
   "source": [
    "### 1.4) Apply the drift model on $R_{\\rm ct,2}$ such that $R_{\\rm ct,2}(\\omega)=R_{\\rm ct,2}\\zeta(\\omega,\\rho)$"
   ]
  },
  {
   "cell_type": "code",
   "execution_count": 6,
   "metadata": {},
   "outputs": [],
   "source": [
    "rho = 1.5\n",
    "zeta = np.flip(np.logspace(0, np.log10(rho), N_freqs))"
   ]
  },
  {
   "cell_type": "markdown",
   "metadata": {},
   "source": [
    "### 1.5) Generate the stochastic experiment $Z_{\\rm exp}(\\omega)$, here $Z_{\\rm exp}(\\omega)=Z_{\\rm exact}(\\omega)+\\sigma_n(\\varepsilon_{\\rm re}+i\\varepsilon_{\\rm im})$"
   ]
  },
  {
   "cell_type": "code",
   "execution_count": 7,
   "metadata": {},
   "outputs": [],
   "source": [
    "rng = np.random.seed(121295)\n",
    "sigma_n_exp = 0.1       # Ohm\n",
    "Z_noise = sigma_n_exp*(np.random.normal(0, 1, N_freqs)+1j*np.random.normal(0, 1, N_freqs))\n",
    "\n",
    "R_ct_2_corrupt = R_ct_2*zeta\n",
    "T_2 = tau_2**phi_2/R_ct_2_corrupt\n",
    "Z_corrupt = R_inf_2 + 1./(1./R_ct_2_corrupt + T_2*(1j*2.*pi*freq_vec)**phi_2)\n",
    "\n",
    "Z_exact = Z_exact_1 + Z_corrupt\n",
    "Z_exp = Z_exact + Z_noise"
   ]
  },
  {
   "cell_type": "markdown",
   "metadata": {},
   "source": [
    "### 1.6) show the impedance in Nyquist plot"
   ]
  },
  {
   "cell_type": "code",
   "execution_count": 8,
   "metadata": {},
   "outputs": [
    {
     "data": {
      "image/png": "[encoded data removed]",
      "text/plain": [
       "<Figure size 432x288 with 1 Axes>"
      ]
     },
     "metadata": {
      "needs_background": "light"
     },
     "output_type": "display_data"
    }
   ],
   "source": [
    "fig, ax = plt.subplots()\n",
    "plt.plot(Z_base.real, -Z_base.imag, linestyle='--', linewidth=4, color='black', label='no drift')\n",
    "plt.plot(np.real(Z_exp), -Z_exp.imag, 'o', markersize=8, color='red', label='synth exp')\n",
    "plt.plot(np.real(Z_exp[0:70:20]), -np.imag(Z_exp[0:70:20]), 's', markersize=8, color=\"black\")\n",
    "plt.plot(np.real(Z_exp[30]), -np.imag(Z_exp[30]), 's', markersize=8, color=\"black\")\n",
    "\n",
    "plt.annotate(r'$10^{-4}$', xy=(np.real(Z_exp[0]), -np.imag(Z_exp[0])), \n",
    "              xytext=(np.real(Z_exp[0])-8, 10-np.imag(Z_exp[0])), \n",
    "              arrowprops=dict(arrowstyle='-',connectionstyle='arc'))\n",
    "plt.annotate(r'$0.1$', xy=(np.real(Z_exp[20]), -np.imag(Z_exp[20])), \n",
    "              xytext=(np.real(Z_exp[20])-18, -np.imag(Z_exp[20])), \n",
    "              arrowprops=dict(arrowstyle='-',connectionstyle='arc'))\n",
    "plt.annotate(r'$1$', xy=(np.real(Z_exp[30]), -np.imag(Z_exp[30])), \n",
    "              xytext=(np.real(Z_exp[30]), 8-np.imag(Z_exp[30])), \n",
    "              arrowprops=dict(arrowstyle='-',connectionstyle='arc'))\n",
    "plt.annotate(r'$10$', xy=(np.real(Z_exp[40]), -np.imag(Z_exp[40])), \n",
    "              xytext=(np.real(Z_exp[40]), 8-np.imag(Z_exp[40])), \n",
    "              arrowprops=dict(arrowstyle='-',connectionstyle='arc'))\n",
    "plt.annotate(r'$10^2$', xy=(np.real(Z_exp[60]), -np.imag(Z_exp[60])), \n",
    "              xytext=(np.real(Z_exp[60])+5, -np.imag(Z_exp[60])), \n",
    "              arrowprops=dict(arrowstyle='-',connectionstyle='arc'))\n",
    "\n",
    "plt.legend(frameon=False, fontsize = 15)\n",
    "plt.axis('scaled')\n",
    "# \n",
    "plt.xlim(15, 150)\n",
    "plt.ylim(-2, 62)\n",
    "plt.xticks(range(20, 150, 20))\n",
    "plt.yticks(range(0, 62, 20))\n",
    "plt.xlabel(r'$Z_{\\rm re}/\\Omega$', fontsize = 20)\n",
    "plt.ylabel(r'$-Z_{\\rm im}/\\Omega$', fontsize = 20)\n",
    "plt.show()"
   ]
  },
  {
   "cell_type": "markdown",
   "metadata": {},
   "source": [
    "## 2) Calculate the DRT impedance $Z_{\\rm DRT}(\\omega)$ and the Hilbert transformed impedance $Z_{\\rm H}(\\omega)$"
   ]
  },
  {
   "cell_type": "markdown",
   "metadata": {},
   "source": [
    "### 2.1) optimize the hyperparamters"
   ]
  },
  {
   "cell_type": "code",
   "execution_count": 9,
   "metadata": {},
   "outputs": [
    {
     "name": "stdout",
     "output_type": "stream",
     "text": [
      "sigma_n; sigma_beta; sigma_lambda\n",
      "9.97217e-02     20.009464     99.999794 \n",
      "9.70185e-02     20.011357     99.999661 \n",
      "9.69819e-02     20.728546     99.967536 \n",
      "9.69927e-02     22.311529     99.881276 \n",
      "9.69890e-02     25.506931     99.666583 \n",
      "9.69891e-02     27.489641     99.489731 \n",
      "9.69880e-02     28.880257     99.320170 \n",
      "9.69888e-02     29.447874     99.203145 \n",
      "9.69895e-02     29.751155     99.081924 \n",
      "9.69917e-02     30.077925     98.851869 \n",
      "9.69961e-02     30.462796     98.436710 \n",
      "9.70043e-02     30.987164     97.672042 \n",
      "9.70206e-02     31.757625     96.234005 \n",
      "9.70542e-02     33.014650     93.452555 \n",
      "9.75939e-02     50.375607     50.591621 \n",
      "9.77746e-02     52.663874     44.769772 \n",
      "9.83092e-02     51.548831     46.242285 \n",
      "9.88636e-02     49.805019     47.524522 \n",
      "9.94384e-02     46.569664     49.353945 \n",
      "1.00093e-01     40.288597     52.302502 \n",
      "1.00359e-01     35.128751     53.877157 \n",
      "1.00339e-01     34.225209     51.618706 \n",
      "9.98185e-02     34.810241     45.930342 \n",
      "9.84633e-02     34.511063     44.774215 \n",
      "9.82941e-02     34.599545     45.228402 \n",
      "9.83158e-02     34.641931     45.155212 \n",
      "9.83140e-02     34.640995     45.178980 \n",
      "9.83137e-02     34.641345     45.177429 \n",
      "9.83136e-02     34.641360     45.176929 \n",
      "9.83135e-02     34.641325     45.176935 \n",
      "9.83134e-02     34.641285     45.176935 \n",
      "9.83124e-02     34.641198     45.176952 \n",
      "9.83120e-02     34.641101     45.176979 \n",
      "9.83121e-02     34.641073     45.176989 \n",
      "9.83123e-02     34.641070     45.176990 \n",
      "9.83128e-02     34.641041     45.176998 \n",
      "9.83134e-02     34.640984     45.177005 \n",
      "9.83134e-02     34.640986     45.177006 \n",
      "9.83134e-02     34.640986     45.177006 \n",
      "9.83132e-02     34.640972     45.177011 \n",
      "9.83130e-02     34.640961     45.177021 \n",
      "9.83129e-02     34.640946     45.177030 \n",
      "9.83126e-02     34.640909     45.177053 \n",
      "9.83127e-02     34.640916     45.177049 \n",
      "9.83129e-02     34.640922     45.177045 \n",
      "9.83129e-02     34.640919     45.177047 \n",
      "9.83132e-02     34.640879     45.177069 \n",
      "Warning: Desired error not necessarily achieved due to precision loss.\n",
      "         Current function value: 3.317064\n",
      "         Iterations: 47\n",
      "         Function evaluations: 557\n",
      "         Gradient evaluations: 109\n",
      "sigma_n; sigma_beta; sigma_lambda\n",
      "1.16209e-01     20.007452     99.999786 \n",
      "1.10605e-01     20.008844     99.999635 \n",
      "1.11159e-01     20.445690     99.978120 \n",
      "1.11142e-01     21.390672     99.923337 \n",
      "1.11128e-01     23.583313     99.771811 \n",
      "1.11117e-01     25.654154     99.592812 \n",
      "1.11114e-01     26.838590     99.452510 \n",
      "1.11114e-01     27.347980     99.352892 \n",
      "1.11116e-01     27.543605     99.268927 \n",
      "1.11120e-01     27.758565     99.105590 \n",
      "1.11127e-01     28.019946     98.802759 \n",
      "1.11142e-01     28.375697     98.236186 \n",
      "1.11171e-01     28.905775     97.159261 \n",
      "1.11228e-01     29.751398     95.088726 \n",
      "1.12802e-01     49.196664     40.506883 \n",
      "1.12828e-01     49.323863     40.139859 \n",
      "1.13779e-01     49.547586     38.714375 \n",
      "1.15059e-01     49.144997     37.268844 \n",
      "1.16585e-01     47.531910     36.241875 \n",
      "1.18341e-01     43.972613     35.589177 \n",
      "1.20212e-01     36.752626     35.435263 \n",
      "1.19024e-01     32.037052     36.172164 \n",
      "1.15910e-01     33.282773     36.985389 \n",
      "1.14078e-01     33.039653     38.620631 \n",
      "1.14291e-01     33.121931     38.705992 \n",
      "1.14263e-01     33.106428     38.690197 \n",
      "1.14263e-01     33.104724     38.687618 \n",
      "1.14263e-01     33.104455     38.687648 \n",
      "1.14263e-01     33.104455     38.687648 \n",
      "1.14263e-01     33.104455     38.687648 \n",
      "Warning: Desired error not necessarily achieved due to precision loss.\n",
      "         Current function value: 19.017472\n",
      "         Iterations: 30\n",
      "         Function evaluations: 852\n",
      "         Gradient evaluations: 168\n"
     ]
    }
   ],
   "source": [
    "# set the intial parameters\n",
    "sigma_n = 1\n",
    "sigma_beta = 20\n",
    "sigma_lambda = 100\n",
    "\n",
    "theta_0 = np.array([sigma_n, sigma_beta, sigma_lambda])\n",
    "data_real, data_imag, scores = Bayes_HT.HT_est(theta_0, Z_exp, freq_vec, tau_vec)"
   ]
  },
  {
   "cell_type": "markdown",
   "metadata": {},
   "source": [
    "### 2.2) Calculate the real part of the $Z_{\\rm DRT}(\\omega)$ and the imaginary part of the $Z_{\\rm H}(\\omega)$"
   ]
  },
  {
   "cell_type": "markdown",
   "metadata": {},
   "source": [
    "#### 2.2.1) Bayesian regression to obtain the real part of impedance for both mean and covariance"
   ]
  },
  {
   "cell_type": "code",
   "execution_count": 10,
   "metadata": {},
   "outputs": [],
   "source": [
    "mu_Z_re = data_real.get('mu_Z')\n",
    "cov_Z_re = np.diag(data_real.get('Sigma_Z'))\n",
    "\n",
    "# the mean and covariance of $R_\\infty$\n",
    "mu_R_inf = data_real.get('mu_gamma')[0]\n",
    "cov_R_inf = np.diag(data_real.get('Sigma_gamma'))[0]"
   ]
  },
  {
   "cell_type": "markdown",
   "metadata": {},
   "source": [
    "#### 2.2.2) Calculate the real part of DRT impedance for both mean and covariance"
   ]
  },
  {
   "cell_type": "code",
   "execution_count": 11,
   "metadata": {},
   "outputs": [],
   "source": [
    "mu_Z_DRT_re = data_real.get('mu_Z_DRT')\n",
    "cov_Z_DRT_re = np.diag(data_real.get('Sigma_Z_DRT'))"
   ]
  },
  {
   "cell_type": "markdown",
   "metadata": {},
   "source": [
    "#### 2.2.3) Calculate the imaginary part of HT impedance for both mean and covariance"
   ]
  },
  {
   "cell_type": "code",
   "execution_count": 12,
   "metadata": {},
   "outputs": [],
   "source": [
    "mu_Z_H_im = data_real.get('mu_Z_H')\n",
    "cov_Z_H_im = np.diag(data_real.get('Sigma_Z_H'))"
   ]
  },
  {
   "cell_type": "markdown",
   "metadata": {},
   "source": [
    "#### 2.2.4) Estimate the $\\sigma_n$"
   ]
  },
  {
   "cell_type": "code",
   "execution_count": 13,
   "metadata": {},
   "outputs": [],
   "source": [
    "sigma_n_re = data_real.get('theta')[0]"
   ]
  },
  {
   "cell_type": "markdown",
   "metadata": {},
   "source": [
    "### 2.3) Calculate the imaginary part of the $Z_{\\rm DRT}(\\omega)$ and the real part of the $Z_{\\rm H}(\\omega)$"
   ]
  },
  {
   "cell_type": "code",
   "execution_count": 14,
   "metadata": {},
   "outputs": [],
   "source": [
    "# 2.3.1 Bayesian regression\n",
    "mu_Z_im = data_imag.get('mu_Z')\n",
    "cov_Z_im = np.diag(data_imag.get('Sigma_Z'))\n",
    "\n",
    "# the mean and covariance of the inductance $L_0$\n",
    "mu_L_0 = data_imag.get('mu_gamma')[0]\n",
    "cov_L_0 = np.diag(data_imag.get('Sigma_gamma'))[0]\n",
    "\n",
    "# 2.3.2 DRT part\n",
    "mu_Z_DRT_im = data_imag.get('mu_Z_DRT')\n",
    "cov_Z_DRT_im = np.diag(data_imag.get('Sigma_Z_DRT'))\n",
    "\n",
    "# 2.3.3 HT prediction\n",
    "mu_Z_H_re = data_imag.get('mu_Z_H')\n",
    "cov_Z_H_re = np.diag(data_imag.get('Sigma_Z_H'))\n",
    "\n",
    "# 2.3.4 estimated sigma_n\n",
    "sigma_n_im = data_imag.get('theta')[0]"
   ]
  },
  {
   "cell_type": "markdown",
   "metadata": {},
   "source": [
    "## 3) Plot the BHT_DRT"
   ]
  },
  {
   "cell_type": "markdown",
   "metadata": {},
   "source": [
    "### 3.1) plot the imaginary parts of impedance for both Bayesian regression and the synthetic experiment"
   ]
  },
  {
   "cell_type": "code",
   "execution_count": 15,
   "metadata": {},
   "outputs": [
    {
     "data": {
      "image/png": "[encoded data removed]",
      "text/plain": [
       "<Figure size 432x288 with 1 Axes>"
      ]
     },
     "metadata": {
      "needs_background": "light"
     },
     "output_type": "display_data"
    }
   ],
   "source": [
    "band = np.sqrt(cov_Z_im)\n",
    "plt.fill_between(freq_vec, -mu_Z_im-3*band, -mu_Z_im+3*band,  facecolor='lightgrey')\n",
    "plt.semilogx(freq_vec, -mu_Z_im, linewidth=4, color='black', label='mean')\n",
    "plt.semilogx(freq_vec, -Z_exp.imag, 'o', markersize=8, color='red', label='synth exp')\n",
    "plt.xlim(1E-4, 1E4)\n",
    "plt.ylim(-5, 40)\n",
    "plt.xscale('log')\n",
    "plt.xlabel(r'$f/{\\rm Hz}$', fontsize=20)\n",
    "plt.ylabel(r'$-Z_{\\rm im}/\\Omega$', fontsize=20)\n",
    "plt.legend(frameon=False, fontsize = 15)\n",
    "plt.show()"
   ]
  },
  {
   "cell_type": "markdown",
   "metadata": {},
   "source": [
    "### 3.2) plot the real parts of impedance for both Hilbert transform and the synthetic experiment"
   ]
  },
  {
   "cell_type": "code",
   "execution_count": 16,
   "metadata": {},
   "outputs": [
    {
     "data": {
      "image/png": "[encoded data removed]",
      "text/plain": [
       "<Figure size 432x288 with 1 Axes>"
      ]
     },
     "metadata": {
      "needs_background": "light"
     },
     "output_type": "display_data"
    }
   ],
   "source": [
    "mu_Z_H_re_agm = mu_R_inf + mu_Z_H_re \n",
    "band_agm = np.sqrt(cov_R_inf + cov_Z_H_re + sigma_n_im**2)\n",
    "plt.fill_between(freq_vec, mu_Z_H_re_agm-3*band_agm, mu_Z_H_re_agm+3*band_agm,  facecolor='lightgrey')\n",
    "plt.semilogx(freq_vec, mu_Z_H_re_agm, linewidth=4, color='black', label='mean')\n",
    "plt.semilogx(freq_vec, Z_exp.real, 'o', markersize=8, color='red', label='synth exp')\n",
    "plt.xlim(1E-4, 1E4)\n",
    "plt.ylim(10, 150)\n",
    "plt.xscale('log')\n",
    "plt.xlabel(r'$f/{\\rm Hz}$', fontsize=20)\n",
    "plt.ylabel(r'$\\left(R_\\infty + Z_{\\rm H, re}\\right)/\\Omega$', fontsize=20)\n",
    "plt.legend(frameon=False, fontsize = 15)\n",
    "plt.show()"
   ]
  },
  {
   "cell_type": "markdown",
   "metadata": {},
   "source": [
    "### 3.3) plot the difference between real parts of impedance for Hilbert transform and the synthetic experiment"
   ]
  },
  {
   "cell_type": "code",
   "execution_count": 17,
   "metadata": {},
   "outputs": [
    {
     "data": {
      "image/png": "[encoded data removed]",
      "text/plain": [
       "<Figure size 864x302.4 with 2 Axes>"
      ]
     },
     "metadata": {
      "needs_background": "light"
     },
     "output_type": "display_data"
    }
   ],
   "source": [
    "difference_re = mu_R_inf + mu_Z_H_re - Z_exp.real \n",
    "band = np.sqrt(cov_R_inf + cov_Z_H_re + sigma_n_im**2)\n",
    "\n",
    "fig = plt.figure(figsize=(12,4.2), constrained_layout=False)\n",
    "gs1 = fig.add_gridspec(nrows=1, ncols=4, left=0.05, right=0.48, wspace=0.15)\n",
    "ax1 = fig.add_subplot(gs1[0, :-1])\n",
    "ax2 = fig.add_subplot(gs1[0, -1])\n",
    "ax1.fill_between(freq_vec, -3*band, 3*band,  facecolor='lightgrey')\n",
    "ax1.plot(freq_vec, difference_re, 'o', markersize=8, color='red')\n",
    "ax1.set_xlim(1E-4, 1E4)\n",
    "ax1.set_ylim(-12, 12)\n",
    "ax1.set_xscale('log')\n",
    "ax1.set_xlabel(r'$f/{\\rm Hz}$', fontsize=20)\n",
    "ax1.set_ylabel(r'$\\left(R_\\infty + Z_{\\rm H, re} - Z_{\\rm exp, re}\\right)/\\Omega$', fontsize=20)\n",
    "# density distribution plot\n",
    "sns.kdeplot(difference_re, ax=ax2, shade=True, color='grey', vertical=True)\n",
    "sns.rugplot(difference_re, ax=ax2, color='black', vertical=True)\n",
    "ax2.set_xlim(0, 0.3)\n",
    "ax2.set_xticks(np.arange(0.1, 0.32, 0.1))\n",
    "ax2.set_yticks(ax1.get_yticks())\n",
    "ax2.set_yticklabels([])\n",
    "ax2.set_ylim(-12, 12)\n",
    "ax2.set_xlabel(r'pdf',fontsize=20)\n",
    "plt.show()"
   ]
  },
  {
   "cell_type": "code",
   "execution_count": null,
   "metadata": {},
   "outputs": [],
   "source": []
  }
 ],
 "metadata": {
  "kernelspec": {
   "display_name": "Python 3",
   "language": "python",
   "name": "python3"
  },
  "language_info": {
   "codemirror_mode": {
    "name": "ipython",
    "version": 3
   },
   "file_extension": ".py",
   "mimetype": "text/x-python",
   "name": "python",
   "nbconvert_exporter": "python",
   "pygments_lexer": "ipython3",
   "version": "3.7.6"
  }
 },
 "nbformat": 4,
 "nbformat_minor": 2
}
