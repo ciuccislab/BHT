{
 "cells": [
  {
   "cell_type": "markdown",
   "metadata": {},
   "source": [
    "# Computing the Bayesian Hilbert Transform-DRT"
   ]
  },
  {
   "cell_type": "markdown",
   "metadata": {},
   "source": [
    "In this tutorial example, we will show how the developed BHT-DRT method works using a simple two ZARCs model. The equivalent circuit consists of two ZARCs elements."
   ]
  },
  {
   "cell_type": "code",
   "execution_count": 1,
   "metadata": {},
   "outputs": [
    {
     "data": {
      "text/plain": [
       "<module 'Bayes_HT' from '/Users/jiapeng/Documents/Github/BHT/tutorials/Bayes_HT.py'>"
      ]
     },
     "execution_count": 1,
     "metadata": {},
     "output_type": "execute_result"
    }
   ],
   "source": [
    "# import the libraries\n",
    "import numpy as np\n",
    "from math import pi, log10\n",
    "import matplotlib.pyplot as plt\n",
    "import seaborn as sns\n",
    "\n",
    "# core library\n",
    "import Bayes_HT\n",
    "import importlib\n",
    "importlib.reload(Bayes_HT)"
   ]
  },
  {
   "cell_type": "code",
   "execution_count": 2,
   "metadata": {},
   "outputs": [],
   "source": [
    "# plot standards\n",
    "plt.rc('font', family='serif', size=15)\n",
    "plt.rc('text', usetex=True)\n",
    "plt.rc('xtick', labelsize=15)\n",
    "plt.rc('ytick', labelsize=15)"
   ]
  },
  {
   "cell_type": "markdown",
   "metadata": {},
   "source": [
    "## 1) Define the synthetic impedance experiment $Z_{\\rm exp}(\\omega)$"
   ]
  },
  {
   "cell_type": "markdown",
   "metadata": {},
   "source": [
    "### 1.1) Define the frequency range"
   ]
  },
  {
   "cell_type": "code",
   "execution_count": 3,
   "metadata": {},
   "outputs": [],
   "source": [
    "N_freqs = 81\n",
    "freq_min = 10**-4   # Hz\n",
    "freq_max = 10**4    # Hz\n",
    "freq_vec = np.logspace(log10(freq_min), log10(freq_max), num=N_freqs, endpoint=True)\n",
    "tau_vec = np.logspace(-log10(freq_max), -log10(freq_min), num=N_freqs, endpoint=True)\n",
    "omega_vec = 2.*pi*freq_vec"
   ]
  },
  {
   "cell_type": "markdown",
   "metadata": {},
   "source": [
    "### 1.2) Define the circuit parameters for the two ZARCs"
   ]
  },
  {
   "cell_type": "code",
   "execution_count": 4,
   "metadata": {},
   "outputs": [],
   "source": [
    "# define variables for exact circuit 1\n",
    "R_inf_1 = 10      # Ohm\n",
    "R_ct_1 = 50       # Ohm\n",
    "phi_1 = 0.8\n",
    "tau_1 = 0.1       # sec\n",
    "\n",
    "# impedance of circuit 1\n",
    "T_1 = tau_1**phi_1/R_ct_1\n",
    "Z_exact_1 = R_inf_1+1./(1./R_ct_1+T_1*(1j*2.*pi*freq_vec)**phi_1)\n",
    "\n",
    "# define variables for exact circuit 2\n",
    "R_inf_2 = 10      # Ohm\n",
    "R_ct_2 = 50       # Ohm\n",
    "phi_2 = 0.8\n",
    "tau_2 = 1E1       # sec\n",
    "\n",
    "# impedance of circuit 2\n",
    "T_2 = tau_2**phi_2/R_ct_2\n",
    "Z_exact_2 = R_inf_2+1./(1./R_ct_2+T_2*(1j*2.*pi*freq_vec)**phi_2)"
   ]
  },
  {
   "cell_type": "markdown",
   "metadata": {},
   "source": [
    "### 1.3) Generate exact impedance $Z_{\\rm exact}(\\omega)$ as well as the stochastic experiment $Z_{\\rm exp}(\\omega)$, here $Z_{\\rm exp}(\\omega)=Z_{\\rm exact}(\\omega)+\\sigma_n(\\varepsilon_{\\rm re}+i\\varepsilon_{\\rm im})$"
   ]
  },
  {
   "cell_type": "code",
   "execution_count": 5,
   "metadata": {},
   "outputs": [],
   "source": [
    "Z_exact = Z_exact_1+Z_exact_2\n",
    "\n",
    "# random\n",
    "rng = np.random.seed(1212211)\n",
    "sigma_n_exp = 0.8       # Ohm\n",
    "Z_exp = Z_exact + sigma_n_exp*(np.random.normal(0, 1, N_freqs)+1j*np.random.normal(0, 1, N_freqs))"
   ]
  },
  {
   "cell_type": "markdown",
   "metadata": {},
   "source": [
    "### 1.4) show the impedance in Nyquist plot"
   ]
  },
  {
   "cell_type": "code",
   "execution_count": 6,
   "metadata": {},
   "outputs": [
    {
     "data": {
      "image/png": "[encoded data removed]",
      "text/plain": [
       "<Figure size 432x288 with 1 Axes>"
      ]
     },
     "metadata": {
      "needs_background": "light"
     },
     "output_type": "display_data"
    }
   ],
   "source": [
    "fig, ax = plt.subplots()\n",
    "plt.plot(np.real(Z_exact), -np.imag(Z_exact), linewidth=4, color=\"black\", label=\"exact\")\n",
    "plt.plot(np.real(Z_exp), -np.imag(Z_exp), \"o\", markersize=8, color=\"red\", label=\"synth exp\")\n",
    "plt.plot(np.real(Z_exp[10:70:10]), -np.imag(Z_exp[10:70:10]), 's', markersize=8, color=\"black\")\n",
    "\n",
    "plt.legend(frameon=False, fontsize = 15)\n",
    "plt.axis('scaled')\n",
    "\n",
    "plt.xticks(range(10, 150, 10))\n",
    "plt.yticks(range(0, 60, 10))\n",
    "plt.gca().set_aspect('equal', adjustable='box')\n",
    "plt.xlabel(r'$Z_{\\rm re}/\\Omega$', fontsize = 20)\n",
    "plt.ylabel(r'$-Z_{\\rm im}/\\Omega$', fontsize = 20)\n",
    "plt.annotate(r'$10^{-3}$', xy=(np.real(Z_exp[10]), -np.imag(Z_exp[10])), \n",
    "             xytext=(np.real(Z_exp[10])+10, 5-np.imag(Z_exp[10])), \n",
    "             arrowprops=dict(arrowstyle=\"-\", connectionstyle=\"arc\"))\n",
    "plt.annotate(r'$10^{-2}$', xy=(np.real(Z_exp[20]), -np.imag(Z_exp[20])), \n",
    "             xytext=(np.real(Z_exp[20])+10, 5-np.imag(Z_exp[20])), \n",
    "             arrowprops=dict(arrowstyle=\"-\", connectionstyle=\"arc\"))\n",
    "plt.annotate(r'$10^{-1}$', xy=(np.real(Z_exp[30]), -np.imag(Z_exp[30])), \n",
    "             xytext=(np.real(Z_exp[30])-5, 10-np.imag(Z_exp[30])), \n",
    "             arrowprops=dict(arrowstyle=\"-\", connectionstyle=\"arc\"))\n",
    "plt.annotate(r'$1$', xy=(np.real(Z_exp[40]), -np.imag(Z_exp[40])), \n",
    "             xytext=(np.real(Z_exp[40])-5, 10-np.imag(Z_exp[40])), \n",
    "             arrowprops=dict(arrowstyle=\"-\", connectionstyle=\"arc\"))\n",
    "plt.annotate(r'$10$', xy=(np.real(Z_exp[50]), -np.imag(Z_exp[50])), \n",
    "             xytext=(np.real(Z_exp[50])-5, 10-np.imag(Z_exp[50])), \n",
    "             arrowprops=dict(arrowstyle=\"-\", connectionstyle=\"arc\"))\n",
    "plt.annotate(r'$10^2$', xy=(np.real(Z_exp[60]), -np.imag(Z_exp[60])), \n",
    "             xytext=(np.real(Z_exp[60])-5, 10-np.imag(Z_exp[60])), \n",
    "             arrowprops=dict(arrowstyle=\"-\", connectionstyle=\"arc\"))\n",
    "plt.show()"
   ]
  },
  {
   "cell_type": "markdown",
   "metadata": {},
   "source": [
    "## 2) Calculate the DRT impedance $Z_{\\rm DRT}(\\omega)$ and the Hilbert transformed impedance $Z_{\\rm H}(\\omega)$"
   ]
  },
  {
   "cell_type": "markdown",
   "metadata": {},
   "source": [
    "### 2.1) optimize the hyperparamters"
   ]
  },
  {
   "cell_type": "code",
   "execution_count": 7,
   "metadata": {},
   "outputs": [
    {
     "name": "stdout",
     "output_type": "stream",
     "text": [
      "sigma_n; sigma_beta; sigma_lambda\n",
      "7.94346e-01     20.001648     99.999931 \n",
      "7.47692e-01     20.116695     99.995787 \n",
      "7.46375e-01     20.357757     99.986730 \n",
      "7.46979e-01     20.862391     99.965553 \n",
      "7.47733e-01     22.004108     99.911132 \n",
      "7.48413e-01     23.376315     99.833287 \n",
      "7.48424e-01     23.829517     99.794591 \n",
      "7.48436e-01     23.944283     99.771499 \n",
      "7.48440e-01     23.993170     99.743990 \n",
      "7.48446e-01     24.044109     99.691365 \n",
      "7.48456e-01     24.107922     99.591287 \n",
      "7.48473e-01     24.198055     99.398419 \n",
      "7.48503e-01     24.334707     99.022957 \n",
      "7.48559e-01     24.551895     98.287721 \n",
      "7.48666e-01     24.908624     96.842662 \n",
      "7.48873e-01     25.509549     94.006608 \n",
      "7.49280e-01     26.547787     88.486577 \n",
      "7.53209e-01     35.522491     37.606194 \n",
      "7.53424e-01     35.642164     36.872877 \n",
      "7.61023e-01     35.017626     37.075223 \n",
      "7.66783e-01     33.715271     37.433105 \n",
      "7.71521e-01     31.111735     38.091642 \n",
      "7.69752e-01     26.372727     38.943711 \n",
      "7.63337e-01     28.506216     37.745249 \n",
      "7.58842e-01     28.232991     37.779246 \n",
      "7.55528e-01     28.022743     37.869765 \n",
      "7.55611e-01     28.032211     37.877199 \n",
      "7.55609e-01     28.032412     37.877108 \n",
      "Warning: Desired error not necessarily achieved due to precision loss.\n",
      "         Current function value: 132.177369\n",
      "         Iterations: 28\n",
      "         Function evaluations: 425\n",
      "         Gradient evaluations: 83\n",
      "sigma_n; sigma_beta; sigma_lambda\n",
      "7.90872e-01     20.001074     99.999913 \n",
      "7.45326e-01     20.067815     99.993081 \n",
      "7.43653e-01     20.213088     99.978250 \n",
      "7.43360e-01     20.518188     99.944808 \n",
      "7.43827e-01     21.192892     99.863321 \n",
      "7.44738e-01     22.199230     99.724231 \n",
      "7.44806e-01     22.429594     99.674355 \n",
      "7.44795e-01     22.498926     99.639244 \n",
      "7.44776e-01     22.572259     99.570811 \n",
      "7.44753e-01     22.659491     99.443565 \n",
      "7.44722e-01     22.775893     99.204729 \n",
      "7.44677e-01     22.944489     98.750562 \n",
      "7.44608e-01     23.203377     97.878038 \n",
      "7.44499e-01     23.618931     96.191489 \n",
      "7.44324e-01     24.312005     92.924148 \n",
      "7.41801e-01     34.685504     38.598961 \n",
      "7.41739e-01     34.842786     37.695491 \n",
      "7.37933e-01     31.121454     38.553389 \n",
      "7.38370e-01     28.011797     39.263056 \n",
      "7.41610e-01     24.998343     39.030287 \n",
      "7.41869e-01     26.465159     38.320842 \n",
      "7.42006e-01     26.254394     38.452171 \n",
      "7.42037e-01     26.224907     38.459289 \n",
      "7.42037e-01     26.225010     38.461333 \n",
      "7.42038e-01     26.225473     38.461372 \n",
      "7.42038e-01     26.225473     38.461372 \n",
      "7.42038e-01     26.225473     38.461372 \n",
      "Warning: Desired error not necessarily achieved due to precision loss.\n",
      "         Current function value: 137.956623\n",
      "         Iterations: 27\n",
      "         Function evaluations: 271\n",
      "         Gradient evaluations: 54\n"
     ]
    }
   ],
   "source": [
    "# set the intial parameters\n",
    "sigma_n = 1\n",
    "sigma_beta = 20\n",
    "sigma_lambda = 100\n",
    "\n",
    "theta_0 = np.array([sigma_n, sigma_beta, sigma_lambda])\n",
    "data_real, data_imag, scores = Bayes_HT.HT_est(theta_0, Z_exp, freq_vec, tau_vec)"
   ]
  },
  {
   "cell_type": "markdown",
   "metadata": {},
   "source": [
    "### 2.2) Calculate the real part of the $Z_{\\rm DRT}(\\omega)$ and the imaginary part of the $Z_{\\rm H}(\\omega)$"
   ]
  },
  {
   "cell_type": "markdown",
   "metadata": {},
   "source": [
    "#### 2.2.1) Bayesian regression to obtain the real part of impedance for both mean and covariance"
   ]
  },
  {
   "cell_type": "code",
   "execution_count": 8,
   "metadata": {},
   "outputs": [],
   "source": [
    "mu_Z_re = data_real.get('mu_Z')\n",
    "cov_Z_re = np.diag(data_real.get('Sigma_Z'))\n",
    "\n",
    "# the mean and covariance of $R_\\infty$\n",
    "mu_R_inf = data_real.get('mu_gamma')[0]\n",
    "cov_R_inf = np.diag(data_real.get('Sigma_gamma'))[0]"
   ]
  },
  {
   "cell_type": "markdown",
   "metadata": {},
   "source": [
    "#### 2.2.2) Calculate the real part of DRT impedance for both mean and covariance"
   ]
  },
  {
   "cell_type": "code",
   "execution_count": 9,
   "metadata": {},
   "outputs": [],
   "source": [
    "mu_Z_DRT_re = data_real.get('mu_Z_DRT')\n",
    "cov_Z_DRT_re = np.diag(data_real.get('Sigma_Z_DRT'))"
   ]
  },
  {
   "cell_type": "markdown",
   "metadata": {},
   "source": [
    "#### 2.2.3) Calculate the imaginary part of HT impedance for both mean and covariance"
   ]
  },
  {
   "cell_type": "code",
   "execution_count": 10,
   "metadata": {},
   "outputs": [],
   "source": [
    "mu_Z_H_im = data_real.get('mu_Z_H')\n",
    "cov_Z_H_im = np.diag(data_real.get('Sigma_Z_H'))"
   ]
  },
  {
   "cell_type": "markdown",
   "metadata": {},
   "source": [
    "#### 2.2.4) Estimate the $\\sigma_n$"
   ]
  },
  {
   "cell_type": "code",
   "execution_count": 11,
   "metadata": {},
   "outputs": [],
   "source": [
    "sigma_n_re = data_real.get('theta')[0]"
   ]
  },
  {
   "cell_type": "markdown",
   "metadata": {},
   "source": [
    "### 2.3) Calculate the imaginary part of the $Z_{\\rm DRT}(\\omega)$ and the real part of the $Z_{\\rm H}(\\omega)$"
   ]
  },
  {
   "cell_type": "code",
   "execution_count": 12,
   "metadata": {},
   "outputs": [],
   "source": [
    "# 2.3.1 Bayesian regression\n",
    "mu_Z_im = data_imag.get('mu_Z')\n",
    "cov_Z_im = np.diag(data_imag.get('Sigma_Z'))\n",
    "\n",
    "# the mean and covariance of the inductance $L_0$\n",
    "mu_L_0 = data_imag.get('mu_gamma')[0]\n",
    "cov_L_0 = np.diag(data_imag.get('Sigma_gamma'))[0]\n",
    "\n",
    "# 2.3.2 DRT part\n",
    "mu_Z_DRT_im = data_imag.get('mu_Z_DRT')\n",
    "cov_Z_DRT_im = np.diag(data_imag.get('Sigma_Z_DRT'))\n",
    "\n",
    "# 2.3.3 HT prediction\n",
    "mu_Z_H_re = data_imag.get('mu_Z_H')\n",
    "cov_Z_H_re = np.diag(data_imag.get('Sigma_Z_H'))\n",
    "\n",
    "# 2.3.4 estimated sigma_n\n",
    "sigma_n_im = data_imag.get('theta')[0]"
   ]
  },
  {
   "cell_type": "markdown",
   "metadata": {},
   "source": [
    "## 3) Plot the BHT_DRT"
   ]
  },
  {
   "cell_type": "markdown",
   "metadata": {},
   "source": [
    "### 3.1) plot the imaginary parts of impedance for both Bayesian regression and the synthetic experiment"
   ]
  },
  {
   "cell_type": "code",
   "execution_count": 13,
   "metadata": {},
   "outputs": [
    {
     "data": {
      "image/png": "[encoded data removed]",
      "text/plain": [
       "<Figure size 432x288 with 1 Axes>"
      ]
     },
     "metadata": {
      "needs_background": "light"
     },
     "output_type": "display_data"
    }
   ],
   "source": [
    "band = np.sqrt(cov_Z_im)\n",
    "plt.fill_between(freq_vec, -mu_Z_im-3*band, -mu_Z_im+3*band,  facecolor='lightgrey')\n",
    "plt.semilogx(freq_vec, -mu_Z_im, linewidth=4, color='black', label='mean')\n",
    "plt.semilogx(freq_vec, -Z_exp.imag, 'o', markersize=8, color='red', label='synth exp')\n",
    "plt.xlim(1E-4, 1E4)\n",
    "plt.ylim(-3, 30)\n",
    "plt.xscale('log')\n",
    "plt.xlabel(r'$f/{\\rm Hz}$', fontsize=20)\n",
    "plt.ylabel(r'$-Z_{\\rm im}/\\Omega$', fontsize=20)\n",
    "plt.legend(frameon=False, fontsize = 15) \n",
    "plt.show()"
   ]
  },
  {
   "cell_type": "markdown",
   "metadata": {},
   "source": [
    "### 3.2) plot the real parts of impedance for both Hilbert transform and the synthetic experiment"
   ]
  },
  {
   "cell_type": "code",
   "execution_count": 14,
   "metadata": {},
   "outputs": [
    {
     "data": {
      "image/png": "[encoded data removed]",
      "text/plain": [
       "<Figure size 432x288 with 1 Axes>"
      ]
     },
     "metadata": {
      "needs_background": "light"
     },
     "output_type": "display_data"
    }
   ],
   "source": [
    "mu_Z_H_re_agm = mu_R_inf + mu_Z_H_re \n",
    "band_agm = np.sqrt(cov_R_inf + cov_Z_H_re + sigma_n_im**2)\n",
    "plt.fill_between(freq_vec, mu_Z_H_re_agm-3*band_agm, mu_Z_H_re_agm+3*band_agm,  facecolor='lightgrey')\n",
    "plt.semilogx(freq_vec, mu_Z_H_re_agm, linewidth=4, color='black', label='mean')\n",
    "plt.semilogx(freq_vec, Z_exp.real, 'o', markersize=8, color='red', label='synth exp')\n",
    "plt.xlim(1E-4, 1E4)\n",
    "plt.ylim(7, 130)\n",
    "plt.xscale('log')\n",
    "plt.xlabel(r'$f/{\\rm Hz}$', fontsize=20)\n",
    "plt.ylabel(r'$\\left(R_\\infty + Z_{\\rm H, re}\\right)/\\Omega$', fontsize=20)\n",
    "plt.legend(frameon=False, fontsize = 15)\n",
    "plt.show()"
   ]
  },
  {
   "cell_type": "markdown",
   "metadata": {},
   "source": [
    "### 3.3) plot the difference between real parts of impedance for Hilbert transform and the synthetic experiment"
   ]
  },
  {
   "cell_type": "code",
   "execution_count": 15,
   "metadata": {},
   "outputs": [
    {
     "data": {
      "image/png": "[encoded data removed]",
      "text/plain": [
       "<Figure size 432x288 with 1 Axes>"
      ]
     },
     "metadata": {
      "needs_background": "light"
     },
     "output_type": "display_data"
    }
   ],
   "source": [
    "difference_re = mu_R_inf + mu_Z_H_re - Z_exp.real \n",
    "band = np.sqrt(cov_R_inf + cov_Z_H_re + sigma_n_im**2)\n",
    "plt.fill_between(freq_vec, -3*band, 3*band,  facecolor='lightgrey')\n",
    "plt.plot(freq_vec, difference_re, 'o', markersize=8, color='red')\n",
    "plt.xlim(1E-4, 1E4)\n",
    "plt.ylim(-10, 10)\n",
    "plt.xscale('log')\n",
    "plt.xlabel(r'$f/{\\rm Hz}$', fontsize=20)\n",
    "plt.ylabel(r'$\\left(R_\\infty + Z_{\\rm H, re} - Z_{\\rm exp, re}\\right)/\\Omega$', fontsize=20)\n",
    "plt.show()"
   ]
  },
  {
   "cell_type": "markdown",
   "metadata": {},
   "source": [
    "### 3.4) plot the density distribution of residuals for the real part"
   ]
  },
  {
   "cell_type": "code",
   "execution_count": 16,
   "metadata": {},
   "outputs": [
    {
     "data": {
      "image/png": "[encoded data removed]",
      "text/plain": [
       "<Figure size 432x288 with 1 Axes>"
      ]
     },
     "metadata": {
      "needs_background": "light"
     },
     "output_type": "display_data"
    }
   ],
   "source": [
    "fig = plt.figure(1)\n",
    "a = sns.kdeplot(difference_re, shade=True, color='grey')\n",
    "a = sns.rugplot(difference_re, color='black')\n",
    "a.set_xlabel(r'$\\left(R_\\infty + Z_{\\rm H, re} - Z_{\\rm exp, re}\\right)/\\Omega$',fontsize=20)\n",
    "a.set_ylabel(r'pdf',fontsize=20)\n",
    "a.tick_params(labelsize=15)\n",
    "plt.xlim(-5, 5)\n",
    "plt.ylim(0, 0.5)\n",
    "plt.show()"
   ]
  },
  {
   "cell_type": "code",
   "execution_count": null,
   "metadata": {},
   "outputs": [],
   "source": []
  }
 ],
 "metadata": {
  "kernelspec": {
   "display_name": "Python 3",
   "language": "python",
   "name": "python3"
  },
  "language_info": {
   "codemirror_mode": {
    "name": "ipython",
    "version": 3
   },
   "file_extension": ".py",
   "mimetype": "text/x-python",
   "name": "python",
   "nbconvert_exporter": "python",
   "pygments_lexer": "ipython3",
   "version": "3.7.6"
  }
 },
 "nbformat": 4,
 "nbformat_minor": 2
}
